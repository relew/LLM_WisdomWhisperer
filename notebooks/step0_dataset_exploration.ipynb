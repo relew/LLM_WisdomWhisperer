{
 "cells": [
  {
   "cell_type": "code",
   "execution_count": 2,
   "id": "4390df03-6a42-45b1-9a40-bf4fd16f82b9",
   "metadata": {},
   "outputs": [],
   "source": [
    "import pandas as pd\n",
    "\n",
    "df = pd.read_csv(\"strix.csv\")"
   ]
  },
  {
   "cell_type": "code",
   "execution_count": 3,
   "id": "6add4bca-20b1-4410-b1a2-cb5b807a3ac6",
   "metadata": {},
   "outputs": [
    {
     "data": {
      "text/plain": [
       "133799"
      ]
     },
     "execution_count": 3,
     "metadata": {},
     "output_type": "execute_result"
    }
   ],
   "source": [
    "pd.set_option('display.max_colwidth', None)  # Show all columns\n",
    "len(df)"
   ]
  },
  {
   "cell_type": "markdown",
   "id": "ee787e45-3998-47dd-a60f-d87e759dfff8",
   "metadata": {},
   "source": [
    "# Stoic ideology filter"
   ]
  },
  {
   "cell_type": "code",
   "execution_count": 4,
   "id": "ef6f934f-7f0d-441c-a0ff-ec627dc4fd26",
   "metadata": {},
   "outputs": [
    {
     "data": {
      "text/plain": [
       "497"
      ]
     },
     "execution_count": 4,
     "metadata": {},
     "output_type": "execute_result"
    }
   ],
   "source": [
    "# Keywords related to Stoicism\n",
    "stoic_keywords = [\"stoicism\", \"stoic\"]\n",
    "\n",
    "# Filter rows where any of the keywords appear in 'category', 'question', or 'answer'\n",
    "stoic_df = df[df.apply(lambda row: any(keyword in str(row).lower() for keyword in stoic_keywords), axis=1)]\n",
    "len(stoic_df)"
   ]
  },
  {
   "cell_type": "code",
   "execution_count": 5,
   "id": "1fdcbb52-b779-4206-bd51-8a9ddb4f9697",
   "metadata": {},
   "outputs": [
    {
     "data": {
      "text/plain": [
       "category\n",
       "stoicism             63\n",
       "seneca               27\n",
       "justus-lipsius       21\n",
       "marcus-aurelius      20\n",
       "logic-ancient        20\n",
       "freedom-ancient      19\n",
       "arcesilaus           18\n",
       "philo                18\n",
       "antiochus-ascalon    15\n",
       "galen                12\n",
       "cicero               12\n",
       "carneades            11\n",
       "philo-larissa        11\n",
       "ancient-political    10\n",
       "epictetus             9\n",
       "dtype: int64"
      ]
     },
     "execution_count": 5,
     "metadata": {},
     "output_type": "execute_result"
    }
   ],
   "source": [
    "category_counts = stoic_df.groupby('category').size()\n",
    "# Sort by count in descending order\n",
    "top_10_categories = category_counts.sort_values(ascending=False).head(15)\n",
    "top_10_categories"
   ]
  },
  {
   "cell_type": "code",
   "execution_count": 6,
   "id": "ce27e753-4152-4f76-93fd-10e69e922fa8",
   "metadata": {},
   "outputs": [
    {
     "data": {
      "text/plain": [
       "234"
      ]
     },
     "execution_count": 6,
     "metadata": {},
     "output_type": "execute_result"
    }
   ],
   "source": [
    "stoic_categories = [\"stoicism\",\"epictetus\",\"seneca\",\"zeno\",\"justus-lipsius\",\"marcus-aurelius\"]\n",
    "stoic_df_authors = df[df[\"category\"].isin(stoic_categories)]\n",
    "len(stoic_df_authors)"
   ]
  },
  {
   "cell_type": "code",
   "execution_count": 8,
   "id": "3b8d08da-beca-49df-8697-e6d7051c6c7a",
   "metadata": {},
   "outputs": [
    {
     "data": {
      "text/plain": [
       "591"
      ]
     },
     "execution_count": 8,
     "metadata": {},
     "output_type": "execute_result"
    }
   ],
   "source": [
    "stoic_union_df = pd.concat([stoic_df, stoic_df_authors]).drop_duplicates()\n",
    "stoic_union_df[\"ideology\"] = \"stoicism\"\n",
    "len(stoic_union_df)"
   ]
  },
  {
   "cell_type": "code",
   "execution_count": 10,
   "id": "6771eef4-61a0-44d4-b21f-3b2e1c9dcbfc",
   "metadata": {},
   "outputs": [
    {
     "data": {
      "text/html": [
       "<div>\n",
       "<style scoped>\n",
       "    .dataframe tbody tr th:only-of-type {\n",
       "        vertical-align: middle;\n",
       "    }\n",
       "\n",
       "    .dataframe tbody tr th {\n",
       "        vertical-align: top;\n",
       "    }\n",
       "\n",
       "    .dataframe thead th {\n",
       "        text-align: right;\n",
       "    }\n",
       "</style>\n",
       "<table border=\"1\" class=\"dataframe\">\n",
       "  <thead>\n",
       "    <tr style=\"text-align: right;\">\n",
       "      <th></th>\n",
       "      <th>category</th>\n",
       "      <th>question</th>\n",
       "      <th>answer</th>\n",
       "      <th>ideology</th>\n",
       "    </tr>\n",
       "  </thead>\n",
       "  <tbody>\n",
       "    <tr>\n",
       "      <th>1286</th>\n",
       "      <td>al-kindi</td>\n",
       "      <td>Who were some philosophers who believed in the past eternity of the world?</td>\n",
       "      <td>Aristotle, Stoics, and orthodox Neoplatonists were philosophers who believed in the past eternity of the world. They held that the world has always existed and will never cease to exist.</td>\n",
       "      <td>stoicism</td>\n",
       "    </tr>\n",
       "    <tr>\n",
       "      <th>1582</th>\n",
       "      <td>alexander-aphrodisias</td>\n",
       "      <td>Why might Alexander's Ethical Problems be particularly significant in the study of ancient ethics?</td>\n",
       "      <td>Alexander's Ethical Problems are significant in the study of ancient ethics because they provide a link between Aspasius' early commentary on Aristotle's ethics and the later medieval commentaries, filling a gap in the literature during which time ethics may have become a marginal subject in later antiquity. Additionally, these essays address central issues in Aristotle's ethics, such as pleasure as a good and pain as an evil, the relationship between virtues and vices, virtue as a mean, and involuntary actions. Alexander's discussions also reflect the debates of the Peripatetics with the Epicureans and Stoics in Hellenistic times, offering insight into the broader philosophical discussions of the time period. Finally, Alexander's emphasis on logical and physical distinctions in connection with ethical problems provides further depth to the study of ancient ethics.</td>\n",
       "      <td>stoicism</td>\n",
       "    </tr>\n",
       "    <tr>\n",
       "      <th>1583</th>\n",
       "      <td>alexander-aphrodisias</td>\n",
       "      <td>Who establishes a rigorously physicalist system ruled by an all-pervasive divine mind, leading to a sharpened awareness of the determinism problem?</td>\n",
       "      <td>The Stoics established a rigorously physicalist system ruled by an all-pervasive divine mind, leading to a sharpened awareness of the determinism problem.</td>\n",
       "      <td>stoicism</td>\n",
       "    </tr>\n",
       "  </tbody>\n",
       "</table>\n",
       "</div>"
      ],
      "text/plain": [
       "                   category  \\\n",
       "1286               al-kindi   \n",
       "1582  alexander-aphrodisias   \n",
       "1583  alexander-aphrodisias   \n",
       "\n",
       "                                                                                                                                                 question  \\\n",
       "1286                                                                           Who were some philosophers who believed in the past eternity of the world?   \n",
       "1582                                                   Why might Alexander's Ethical Problems be particularly significant in the study of ancient ethics?   \n",
       "1583  Who establishes a rigorously physicalist system ruled by an all-pervasive divine mind, leading to a sharpened awareness of the determinism problem?   \n",
       "\n",
       "                                                                                                                                                                                                                                                                                                                                                                                                                                                                                                                                                                                                                                                                                                                                                                                                                                                                                                             answer  \\\n",
       "1286                                                                                                                                                                                                                                                                                                                                                                                                                                                                                                                                                                                                                                                                                                                     Aristotle, Stoics, and orthodox Neoplatonists were philosophers who believed in the past eternity of the world. They held that the world has always existed and will never cease to exist.   \n",
       "1582  Alexander's Ethical Problems are significant in the study of ancient ethics because they provide a link between Aspasius' early commentary on Aristotle's ethics and the later medieval commentaries, filling a gap in the literature during which time ethics may have become a marginal subject in later antiquity. Additionally, these essays address central issues in Aristotle's ethics, such as pleasure as a good and pain as an evil, the relationship between virtues and vices, virtue as a mean, and involuntary actions. Alexander's discussions also reflect the debates of the Peripatetics with the Epicureans and Stoics in Hellenistic times, offering insight into the broader philosophical discussions of the time period. Finally, Alexander's emphasis on logical and physical distinctions in connection with ethical problems provides further depth to the study of ancient ethics.   \n",
       "1583                                                                                                                                                                                                                                                                                                                                                                                                                                                                                                                                                                                                                                                                                                                                                     The Stoics established a rigorously physicalist system ruled by an all-pervasive divine mind, leading to a sharpened awareness of the determinism problem.   \n",
       "\n",
       "      ideology  \n",
       "1286  stoicism  \n",
       "1582  stoicism  \n",
       "1583  stoicism  "
      ]
     },
     "execution_count": 10,
     "metadata": {},
     "output_type": "execute_result"
    }
   ],
   "source": [
    "stoic_union_df.head(3)"
   ]
  },
  {
   "cell_type": "markdown",
   "id": "6444cdc7-15a3-4677-9752-e102d1ab1706",
   "metadata": {},
   "source": [
    "# Zen Budhism"
   ]
  },
  {
   "cell_type": "code",
   "execution_count": 11,
   "id": "4e58d86b-d40d-49a9-834a-c9b90fbfbca7",
   "metadata": {},
   "outputs": [
    {
     "name": "stdout",
     "output_type": "stream",
     "text": [
      "Number of matching rows: 109\n"
     ]
    }
   ],
   "source": [
    "# Keywords related to Stoicism\n",
    "zen_keywords = [\"zen\", \"zen-buddhism\",\"zen buddhism\"]\n",
    "\n",
    "# Filter rows where any of the keywords appear as complete words in 'category', 'question', or 'answer'\n",
    "zen_df = df[df.apply(lambda row: any(\n",
    "    pd.Series(row).str.contains(r'\\b' + keyword + r'\\b', case=False, regex=True).any() for keyword in zen_keywords\n",
    "), axis=1)]\n",
    "\n",
    "# Number of matching rows\n",
    "print(f'Number of matching rows: {len(zen_df)}')"
   ]
  },
  {
   "cell_type": "code",
   "execution_count": 12,
   "id": "388d977b-db36-4367-91d1-13f00ee49c0a",
   "metadata": {},
   "outputs": [
    {
     "data": {
      "text/plain": [
       "category\n",
       "japanese-zen           73\n",
       "kyoto-school            8\n",
       "japanese-confucian      6\n",
       "japanese-philosophy     6\n",
       "daoism                  3\n",
       "mysticism               3\n",
       "japanese-pure-land      2\n",
       "korean-philosophy       2\n",
       "nishida-kitaro          2\n",
       "buddhism-chan           1\n",
       "dtype: int64"
      ]
     },
     "execution_count": 12,
     "metadata": {},
     "output_type": "execute_result"
    }
   ],
   "source": [
    "category_counts = zen_df.groupby('category').size()\n",
    "\n",
    "# Sort by count in descending order\n",
    "top_10_categories = category_counts.sort_values(ascending=False).head(10)\n",
    "top_10_categories"
   ]
  },
  {
   "cell_type": "code",
   "execution_count": 13,
   "id": "9afa87f3-4b76-4ca4-9fc3-9bde97cca9da",
   "metadata": {},
   "outputs": [
    {
     "data": {
      "text/plain": [
       "201"
      ]
     },
     "execution_count": 13,
     "metadata": {},
     "output_type": "execute_result"
    }
   ],
   "source": [
    "zen_categories = [\"japanese-zen\",\"kyoto-school\"]\n",
    "zen_authors = df[df[\"category\"].isin(zen_categories)]\n",
    "len(zen_authors)"
   ]
  },
  {
   "cell_type": "code",
   "execution_count": 14,
   "id": "9c32a034-b23a-4d32-a39f-86aba6248d81",
   "metadata": {},
   "outputs": [
    {
     "data": {
      "text/plain": [
       "229"
      ]
     },
     "execution_count": 14,
     "metadata": {},
     "output_type": "execute_result"
    }
   ],
   "source": [
    "zen_union_df = pd.concat([zen_df, zen_authors]).drop_duplicates()\n",
    "zen_union_df[\"ideology\"] = \"zen-buddhism\"\n",
    "len(zen_union_df)"
   ]
  },
  {
   "cell_type": "code",
   "execution_count": 15,
   "id": "d999915b-08a5-4fea-8da0-b197f0590391",
   "metadata": {},
   "outputs": [
    {
     "data": {
      "text/html": [
       "<div>\n",
       "<style scoped>\n",
       "    .dataframe tbody tr th:only-of-type {\n",
       "        vertical-align: middle;\n",
       "    }\n",
       "\n",
       "    .dataframe tbody tr th {\n",
       "        vertical-align: top;\n",
       "    }\n",
       "\n",
       "    .dataframe thead th {\n",
       "        text-align: right;\n",
       "    }\n",
       "</style>\n",
       "<table border=\"1\" class=\"dataframe\">\n",
       "  <thead>\n",
       "    <tr style=\"text-align: right;\">\n",
       "      <th></th>\n",
       "      <th>category</th>\n",
       "      <th>question</th>\n",
       "      <th>answer</th>\n",
       "      <th>ideology</th>\n",
       "    </tr>\n",
       "  </thead>\n",
       "  <tbody>\n",
       "    <tr>\n",
       "      <th>15303</th>\n",
       "      <td>buddhism-chan</td>\n",
       "      <td>What is the description of Zen Buddhism's special transmission that is not based on written words but directly points to the human heartmind, allowing one to see nature and become a Buddha?</td>\n",
       "      <td>The description of Zen Buddhism's special transmission is as a transmission outside the scriptures, not established upon words and letters, directly pointing to the human heartmind, and seeing nature and becoming a Buddha.</td>\n",
       "      <td>zen-buddhism</td>\n",
       "    </tr>\n",
       "    <tr>\n",
       "      <th>15610</th>\n",
       "      <td>japanese-zen</td>\n",
       "      <td>What is the Zen perspective on the relationship between a thing-event's specificity and the whole?</td>\n",
       "      <td>Zen understands the specificity of a thing-event to be a recapitulation of the whole, emphasizing that parts and the whole should be lived in an inseparable relationship through an exercise of nondiscriminatory wisdom, without prioritizing one aspect over another.</td>\n",
       "      <td>zen-buddhism</td>\n",
       "    </tr>\n",
       "    <tr>\n",
       "      <th>15611</th>\n",
       "      <td>japanese-zen</td>\n",
       "      <td>How does Zen's stance of \"not one\" and \"not two\" relate to both dualism and non-dualism?</td>\n",
       "      <td>Zen's stance of \"not one\" and \"not two\" negates both dualism and non-dualism, while allowing for a free, bilateral movement between the two. This position cannot be confined to either dualism or non-dualism, creating a unique third perspective.</td>\n",
       "      <td>zen-buddhism</td>\n",
       "    </tr>\n",
       "  </tbody>\n",
       "</table>\n",
       "</div>"
      ],
      "text/plain": [
       "            category  \\\n",
       "15303  buddhism-chan   \n",
       "15610   japanese-zen   \n",
       "15611   japanese-zen   \n",
       "\n",
       "                                                                                                                                                                                            question  \\\n",
       "15303  What is the description of Zen Buddhism's special transmission that is not based on written words but directly points to the human heartmind, allowing one to see nature and become a Buddha?   \n",
       "15610                                                                                             What is the Zen perspective on the relationship between a thing-event's specificity and the whole?   \n",
       "15611                                                                                                       How does Zen's stance of \"not one\" and \"not two\" relate to both dualism and non-dualism?   \n",
       "\n",
       "                                                                                                                                                                                                                                                                         answer  \\\n",
       "15303                                            The description of Zen Buddhism's special transmission is as a transmission outside the scriptures, not established upon words and letters, directly pointing to the human heartmind, and seeing nature and becoming a Buddha.   \n",
       "15610  Zen understands the specificity of a thing-event to be a recapitulation of the whole, emphasizing that parts and the whole should be lived in an inseparable relationship through an exercise of nondiscriminatory wisdom, without prioritizing one aspect over another.   \n",
       "15611                      Zen's stance of \"not one\" and \"not two\" negates both dualism and non-dualism, while allowing for a free, bilateral movement between the two. This position cannot be confined to either dualism or non-dualism, creating a unique third perspective.   \n",
       "\n",
       "           ideology  \n",
       "15303  zen-buddhism  \n",
       "15610  zen-buddhism  \n",
       "15611  zen-buddhism  "
      ]
     },
     "execution_count": 15,
     "metadata": {},
     "output_type": "execute_result"
    }
   ],
   "source": [
    "zen_union_df.head(3)"
   ]
  },
  {
   "cell_type": "markdown",
   "id": "d6212acf-4fbb-48e3-a8f9-9720c25953b8",
   "metadata": {},
   "source": [
    "# Union stoicism and zen-buddhism QnA"
   ]
  },
  {
   "cell_type": "code",
   "execution_count": 16,
   "id": "5fc18fb3-422d-4327-923f-e32e7cdedda3",
   "metadata": {},
   "outputs": [
    {
     "data": {
      "text/plain": [
       "820"
      ]
     },
     "execution_count": 16,
     "metadata": {},
     "output_type": "execute_result"
    }
   ],
   "source": [
    "stoic_zen_union_df = pd.concat([stoic_union_df, zen_union_df]).drop_duplicates()\n",
    "len(stoic_zen_union_df)"
   ]
  },
  {
   "cell_type": "code",
   "execution_count": 17,
   "id": "b3382512-0a63-417d-99b4-a809d617e820",
   "metadata": {},
   "outputs": [
    {
     "data": {
      "text/html": [
       "<div>\n",
       "<style scoped>\n",
       "    .dataframe tbody tr th:only-of-type {\n",
       "        vertical-align: middle;\n",
       "    }\n",
       "\n",
       "    .dataframe tbody tr th {\n",
       "        vertical-align: top;\n",
       "    }\n",
       "\n",
       "    .dataframe thead th {\n",
       "        text-align: right;\n",
       "    }\n",
       "</style>\n",
       "<table border=\"1\" class=\"dataframe\">\n",
       "  <thead>\n",
       "    <tr style=\"text-align: right;\">\n",
       "      <th></th>\n",
       "      <th>category</th>\n",
       "      <th>question</th>\n",
       "      <th>answer</th>\n",
       "      <th>ideology</th>\n",
       "    </tr>\n",
       "  </thead>\n",
       "  <tbody>\n",
       "    <tr>\n",
       "      <th>1286</th>\n",
       "      <td>al-kindi</td>\n",
       "      <td>Who were some philosophers who believed in the past eternity of the world?</td>\n",
       "      <td>Aristotle, Stoics, and orthodox Neoplatonists were philosophers who believed in the past eternity of the world. They held that the world has always existed and will never cease to exist.</td>\n",
       "      <td>stoicism</td>\n",
       "    </tr>\n",
       "    <tr>\n",
       "      <th>1582</th>\n",
       "      <td>alexander-aphrodisias</td>\n",
       "      <td>Why might Alexander's Ethical Problems be particularly significant in the study of ancient ethics?</td>\n",
       "      <td>Alexander's Ethical Problems are significant in the study of ancient ethics because they provide a link between Aspasius' early commentary on Aristotle's ethics and the later medieval commentaries, filling a gap in the literature during which time ethics may have become a marginal subject in later antiquity. Additionally, these essays address central issues in Aristotle's ethics, such as pleasure as a good and pain as an evil, the relationship between virtues and vices, virtue as a mean, and involuntary actions. Alexander's discussions also reflect the debates of the Peripatetics with the Epicureans and Stoics in Hellenistic times, offering insight into the broader philosophical discussions of the time period. Finally, Alexander's emphasis on logical and physical distinctions in connection with ethical problems provides further depth to the study of ancient ethics.</td>\n",
       "      <td>stoicism</td>\n",
       "    </tr>\n",
       "    <tr>\n",
       "      <th>1583</th>\n",
       "      <td>alexander-aphrodisias</td>\n",
       "      <td>Who establishes a rigorously physicalist system ruled by an all-pervasive divine mind, leading to a sharpened awareness of the determinism problem?</td>\n",
       "      <td>The Stoics established a rigorously physicalist system ruled by an all-pervasive divine mind, leading to a sharpened awareness of the determinism problem.</td>\n",
       "      <td>stoicism</td>\n",
       "    </tr>\n",
       "  </tbody>\n",
       "</table>\n",
       "</div>"
      ],
      "text/plain": [
       "                   category  \\\n",
       "1286               al-kindi   \n",
       "1582  alexander-aphrodisias   \n",
       "1583  alexander-aphrodisias   \n",
       "\n",
       "                                                                                                                                                 question  \\\n",
       "1286                                                                           Who were some philosophers who believed in the past eternity of the world?   \n",
       "1582                                                   Why might Alexander's Ethical Problems be particularly significant in the study of ancient ethics?   \n",
       "1583  Who establishes a rigorously physicalist system ruled by an all-pervasive divine mind, leading to a sharpened awareness of the determinism problem?   \n",
       "\n",
       "                                                                                                                                                                                                                                                                                                                                                                                                                                                                                                                                                                                                                                                                                                                                                                                                                                                                                                             answer  \\\n",
       "1286                                                                                                                                                                                                                                                                                                                                                                                                                                                                                                                                                                                                                                                                                                                     Aristotle, Stoics, and orthodox Neoplatonists were philosophers who believed in the past eternity of the world. They held that the world has always existed and will never cease to exist.   \n",
       "1582  Alexander's Ethical Problems are significant in the study of ancient ethics because they provide a link between Aspasius' early commentary on Aristotle's ethics and the later medieval commentaries, filling a gap in the literature during which time ethics may have become a marginal subject in later antiquity. Additionally, these essays address central issues in Aristotle's ethics, such as pleasure as a good and pain as an evil, the relationship between virtues and vices, virtue as a mean, and involuntary actions. Alexander's discussions also reflect the debates of the Peripatetics with the Epicureans and Stoics in Hellenistic times, offering insight into the broader philosophical discussions of the time period. Finally, Alexander's emphasis on logical and physical distinctions in connection with ethical problems provides further depth to the study of ancient ethics.   \n",
       "1583                                                                                                                                                                                                                                                                                                                                                                                                                                                                                                                                                                                                                                                                                                                                                     The Stoics established a rigorously physicalist system ruled by an all-pervasive divine mind, leading to a sharpened awareness of the determinism problem.   \n",
       "\n",
       "      ideology  \n",
       "1286  stoicism  \n",
       "1582  stoicism  \n",
       "1583  stoicism  "
      ]
     },
     "execution_count": 17,
     "metadata": {},
     "output_type": "execute_result"
    }
   ],
   "source": [
    "stoic_zen_union_df.head(3)"
   ]
  },
  {
   "cell_type": "code",
   "execution_count": 19,
   "id": "34709a3a-82db-4f44-8dbd-d94108e35f5a",
   "metadata": {},
   "outputs": [],
   "source": [
    "stoic_zen_union_df.to_csv(\"stoic_zen_document.csv\",index = False)"
   ]
  },
  {
   "cell_type": "code",
   "execution_count": null,
   "id": "cbcb47fd-8179-4e99-a1c4-6dabf5714d61",
   "metadata": {},
   "outputs": [],
   "source": []
  }
 ],
 "metadata": {
  "kernelspec": {
   "display_name": "Python 3.11.5",
   "language": "python",
   "name": "py311"
  },
  "language_info": {
   "codemirror_mode": {
    "name": "ipython",
    "version": 3
   },
   "file_extension": ".py",
   "mimetype": "text/x-python",
   "name": "python",
   "nbconvert_exporter": "python",
   "pygments_lexer": "ipython3",
   "version": "3.11.5"
  }
 },
 "nbformat": 4,
 "nbformat_minor": 5
}
