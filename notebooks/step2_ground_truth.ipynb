{
 "cells": [
  {
   "cell_type": "code",
   "execution_count": 1,
   "id": "a8de804e-1798-4149-99a4-9726e0cb3c3d",
   "metadata": {},
   "outputs": [],
   "source": [
    "import pandas as pd\n",
    "import minsearch_xtra as minsearch\n",
    "import os\n",
    "OPENAI_API_KEY = os.environ[\"OPENAI_API_KEY\"]\n",
    "from openai import OpenAI\n",
    "import json\n",
    "from tqdm.auto import tqdm\n",
    "import pickle"
   ]
  },
  {
   "cell_type": "markdown",
   "id": "c08b4b09-959f-4dd0-a616-8bb6f8a4b205",
   "metadata": {},
   "source": [
    "# Ingestion"
   ]
  },
  {
   "cell_type": "code",
   "execution_count": 2,
   "id": "a0a287fb-490d-48fc-a8b5-c280b90eb220",
   "metadata": {},
   "outputs": [],
   "source": [
    "pd.set_option('display.max_colwidth', None)  # Show all columns\n",
    "df = pd.read_csv(\"../data/stoic_zen_document.csv\")\n",
    "df.insert(0,'id',df.index)"
   ]
  },
  {
   "cell_type": "code",
   "execution_count": 3,
   "id": "37ff5a52-7884-43b6-ab03-1f5999b1f1ed",
   "metadata": {},
   "outputs": [
    {
     "name": "stdout",
     "output_type": "stream",
     "text": [
      "lenght of the documents: 820\n"
     ]
    },
    {
     "data": {
      "text/plain": [
       "<minsearch.Index at 0x7f2e8e75f810>"
      ]
     },
     "execution_count": 3,
     "metadata": {},
     "output_type": "execute_result"
    }
   ],
   "source": [
    "documents = df.to_dict(orient=\"records\")\n",
    "print(\"lenght of the documents:\", len(documents))\n",
    "\n",
    "index = minsearch.Index(\n",
    "    text_fields=[\"category\", \"question\", \"answer\"],\n",
    "    keyword_fields=['id',\"ideology\"]\n",
    ")\n",
    "\n",
    "index.fit(documents)"
   ]
  },
  {
   "cell_type": "markdown",
   "id": "c1bfd3d8-9a53-4c45-a1c1-68fa235f5817",
   "metadata": {},
   "source": [
    "# Rag Flow"
   ]
  },
  {
   "cell_type": "code",
   "execution_count": 4,
   "id": "bbe48efa-f5c9-45ea-af53-1b2886134fe8",
   "metadata": {},
   "outputs": [],
   "source": [
    "client = OpenAI()\n",
    "\n",
    "prompt_template = \"\"\"\n",
    "You emulate a user of our philosophy assistant application.\n",
    "Formulate 5 questions this user might ask based on a provided answer and quote.\n",
    "Make the questions specific to this answer.\n",
    "The record should contain the answer to the questions, and the questions should\n",
    "be complete and not too short. Use as fewer words as possible from the record. \n",
    "\n",
    "The record:\n",
    "\n",
    "category: {category}\n",
    "question: {question}\n",
    "answer: {answer}\n",
    "\n",
    "Provide the output in parsable JSON without using code blocks:\n",
    "\n",
    "{{\"questions\": [\"question1\", \"question2\", ..., \"question5\"]}}\n",
    "\"\"\".strip()\n",
    "\n",
    "def generate_questions(doc):\n",
    "    prompt = prompt_template.format(**doc)\n",
    "\n",
    "    response = client.chat.completions.create(\n",
    "        model='gpt-4o-mini',\n",
    "        messages=[{\"role\": \"user\", \"content\": prompt}]\n",
    "    )\n",
    "\n",
    "    json_response = response.choices[0].message.content\n",
    "    return json_response"
   ]
  },
  {
   "cell_type": "code",
   "execution_count": 5,
   "id": "15d1073b-2d04-4dfb-b904-eb78fbd28d1e",
   "metadata": {},
   "outputs": [
    {
     "data": {
      "application/vnd.jupyter.widget-view+json": {
       "model_id": "5a273ef4eae749208a99380ec108a7ee",
       "version_major": 2,
       "version_minor": 0
      },
      "text/plain": [
       "  0%|          | 0/820 [00:00<?, ?it/s]"
      ]
     },
     "metadata": {},
     "output_type": "display_data"
    }
   ],
   "source": [
    "results = {}\n",
    "\n",
    "for doc in tqdm(documents): \n",
    "    doc_id = doc['id']\n",
    "    if doc_id in results:\n",
    "        continue\n",
    "\n",
    "    questions_raw = generate_questions(doc)\n",
    "    questions = json.loads(questions_raw)\n",
    "    results[doc_id] = questions['questions']"
   ]
  },
  {
   "cell_type": "code",
   "execution_count": 6,
   "id": "6af70449-98de-469c-8b29-9b9e5e1345ce",
   "metadata": {},
   "outputs": [],
   "source": [
    "final_results = []\n",
    "\n",
    "for doc_id, questions in results.items():\n",
    "    for q in questions:\n",
    "        final_results.append((doc_id, q))"
   ]
  },
  {
   "cell_type": "code",
   "execution_count": 7,
   "id": "213fdfbd-8dc1-49ff-a5d5-f39262a3cdec",
   "metadata": {},
   "outputs": [],
   "source": [
    "df_results = pd.DataFrame(final_results, columns=['id', 'question'])\n",
    "df_results.to_csv('../data/ground_truth_retrieval.csv', index=False)"
   ]
  },
  {
   "cell_type": "code",
   "execution_count": null,
   "id": "e2820010-e14d-4f50-a707-d0e1d28c8ce8",
   "metadata": {},
   "outputs": [],
   "source": []
  }
 ],
 "metadata": {
  "kernelspec": {
   "display_name": "Python 3.11.5",
   "language": "python",
   "name": "py311"
  },
  "language_info": {
   "codemirror_mode": {
    "name": "ipython",
    "version": 3
   },
   "file_extension": ".py",
   "mimetype": "text/x-python",
   "name": "python",
   "nbconvert_exporter": "python",
   "pygments_lexer": "ipython3",
   "version": "3.11.5"
  }
 },
 "nbformat": 4,
 "nbformat_minor": 5
}
