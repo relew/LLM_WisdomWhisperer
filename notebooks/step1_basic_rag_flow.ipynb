{
 "cells": [
  {
   "cell_type": "code",
   "execution_count": 1,
   "id": "a8de804e-1798-4149-99a4-9726e0cb3c3d",
   "metadata": {},
   "outputs": [],
   "source": [
    "import pandas as pd\n",
    "import minsearch_xtra as minsearch\n",
    "import os\n",
    "OPENAI_API_KEY = os.environ[\"OPENAI_API_KEY\"]\n",
    "from openai import OpenAI"
   ]
  },
  {
   "cell_type": "markdown",
   "id": "c08b4b09-959f-4dd0-a616-8bb6f8a4b205",
   "metadata": {},
   "source": [
    "# Ingestion"
   ]
  },
  {
   "cell_type": "code",
   "execution_count": 2,
   "id": "a0a287fb-490d-48fc-a8b5-c280b90eb220",
   "metadata": {},
   "outputs": [],
   "source": [
    "pd.set_option('display.max_colwidth', None)  # Show all columns\n",
    "df = pd.read_csv(\"../data/stoic_zen_document.csv\")\n",
    "df.insert(0,'id',df.index)"
   ]
  },
  {
   "cell_type": "code",
   "execution_count": 3,
   "id": "37ff5a52-7884-43b6-ab03-1f5999b1f1ed",
   "metadata": {},
   "outputs": [
    {
     "name": "stdout",
     "output_type": "stream",
     "text": [
      "lenght of the documents: 820\n"
     ]
    },
    {
     "data": {
      "text/plain": [
       "<minsearch.Index at 0x7f1570796b50>"
      ]
     },
     "execution_count": 3,
     "metadata": {},
     "output_type": "execute_result"
    }
   ],
   "source": [
    "documents = df.to_dict(orient=\"records\")\n",
    "print(\"lenght of the documents:\", len(documents))\n",
    "\n",
    "index = minsearch.Index(\n",
    "    text_fields=[\"category\", \"question\", \"answer\"],\n",
    "    keyword_fields=['id',\"ideology\"]\n",
    ")\n",
    "\n",
    "index.fit(documents)"
   ]
  },
  {
   "cell_type": "markdown",
   "id": "c1bfd3d8-9a53-4c45-a1c1-68fa235f5817",
   "metadata": {},
   "source": [
    "# Rag Flow"
   ]
  },
  {
   "cell_type": "code",
   "execution_count": 4,
   "id": "bbe48efa-f5c9-45ea-af53-1b2886134fe8",
   "metadata": {},
   "outputs": [],
   "source": [
    "client = OpenAI()\n",
    "\n",
    "def minsearch_search(query, ideology):\n",
    "    boost = {'question': 3.0, 'category': 0.5}\n",
    "\n",
    "    results = index.search(\n",
    "        query=query,\n",
    "        filter_dict={'ideology': ideology},\n",
    "        boost_dict=boost,\n",
    "        num_results=5\n",
    "    )\n",
    "\n",
    "    return results\n",
    "    \n",
    "def llm(prompt):\n",
    "    response = client.chat.completions.create(\n",
    "        model='gpt-4o-mini',\n",
    "        messages=[{\"role\": \"user\", \"content\": prompt}]\n",
    "    )\n",
    "    \n",
    "    return response.choices[0].message.content\n",
    "\n",
    "def build_prompt(query, search_results):\n",
    "    prompt_template = \"\"\"\n",
    "    You're a philosophy teaching assistant. Answer the QUESTION based on the CONTEXT from the FAQ database.\n",
    "    Use only the facts from the CONTEXT when answering the QUESTION. Provide a real life quote proving your point,stating the author as well.\n",
    "    \n",
    "    QUESTION: {question}\n",
    "    \n",
    "    CONTEXT: \n",
    "    {context}\n",
    "    \"\"\".strip()\n",
    "\n",
    "    entry_template = \"\"\"\n",
    "    category: {category}\n",
    "    question: {question}\n",
    "    answer: {answer}\n",
    "    ideology: {ideology}\n",
    "    \"\"\".strip()\n",
    "\n",
    "    context = \"\"\n",
    "    \n",
    "    for doc in search_results:\n",
    "        context = context + entry_template.format(**doc) + \"\\n\\n\"\n",
    "    \n",
    "    prompt = prompt_template.format(question=query, context=context).strip()\n",
    "    return prompt\n",
    "\n",
    "def rag(query,ideology):\n",
    "    \n",
    "    search_results = minsearch_search(query,ideology)\n",
    "    prompt = build_prompt(query, search_results)\n",
    "    answer = llm(prompt)\n",
    "\n",
    "    return answer"
   ]
  },
  {
   "cell_type": "code",
   "execution_count": 5,
   "id": "bc772938-c9d2-40ee-b11c-998f4ffb99a1",
   "metadata": {},
   "outputs": [
    {
     "name": "stdout",
     "output_type": "stream",
     "text": [
      "The cardinal basic virtues of Stoicism include courage, justice, and moderation. These virtues are not viewed in isolation but rather as unified aspects that derive from a comprehensive understanding of good and bad in various circumstances. \n",
      "\n",
      "As Seneca, a prominent Stoic philosopher, aptly stated, \"A good character, for the best of men, consists in the pursuit of virtue.\" This highlights the integral role that virtues play in Stoic philosophy and the importance of embodying them.\n"
     ]
    }
   ],
   "source": [
    "query = \"what are the cardinal basic virtues of stoicism?\"\n",
    "ideology = \"stoicism\"\n",
    "\n",
    "answer = rag(query,ideology)\n",
    "print(answer)"
   ]
  },
  {
   "cell_type": "code",
   "execution_count": null,
   "id": "fc3db7ed-4bd2-40b0-b0ff-da69d02b255e",
   "metadata": {},
   "outputs": [],
   "source": []
  }
 ],
 "metadata": {
  "kernelspec": {
   "display_name": "myenv(3.11)",
   "language": "python",
   "name": "myenv"
  },
  "language_info": {
   "codemirror_mode": {
    "name": "ipython",
    "version": 3
   },
   "file_extension": ".py",
   "mimetype": "text/x-python",
   "name": "python",
   "nbconvert_exporter": "python",
   "pygments_lexer": "ipython3",
   "version": "3.11.9"
  }
 },
 "nbformat": 4,
 "nbformat_minor": 5
}
