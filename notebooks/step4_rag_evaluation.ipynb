{
 "cells": [
  {
   "cell_type": "code",
   "execution_count": 111,
   "id": "a8de804e-1798-4149-99a4-9726e0cb3c3d",
   "metadata": {},
   "outputs": [],
   "source": [
    "import pandas as pd\n",
    "import minsearch_xtra as minsearch\n",
    "import os\n",
    "OPENAI_API_KEY = os.environ[\"OPENAI_API_KEY\"]\n",
    "from openai import OpenAI\n",
    "import json\n",
    "from tqdm.auto import tqdm\n",
    "import pickle\n",
    "from concurrent.futures import ThreadPoolExecutor\n",
    "from openai import OpenAI\n",
    "import json\n",
    "from sentence_transformers import SentenceTransformer"
   ]
  },
  {
   "cell_type": "code",
   "execution_count": 55,
   "id": "fe37fd4b-4a64-4d12-888d-bb67c14c279a",
   "metadata": {},
   "outputs": [
    {
     "name": "stdout",
     "output_type": "stream",
     "text": [
      "lenght of the documents: 820\n"
     ]
    },
    {
     "data": {
      "text/plain": [
       "<minsearch.Index at 0x7f2094216810>"
      ]
     },
     "execution_count": 55,
     "metadata": {},
     "output_type": "execute_result"
    }
   ],
   "source": [
    "df = pd.read_csv(\"../data/stoic_zen_document.csv\")\n",
    "df.insert(0,'id',df.index)\n",
    "\n",
    "documents = df.to_dict(orient=\"records\")\n",
    "print(\"lenght of the documents:\", len(documents))\n",
    "\n",
    "index = minsearch.Index(\n",
    "    text_fields=[\"category\", \"question\", \"answer\"],\n",
    "    keyword_fields=['id',\"ideology\"]\n",
    ")\n",
    "\n",
    "index.fit(documents)"
   ]
  },
  {
   "cell_type": "code",
   "execution_count": 58,
   "id": "186811c5-93ff-4b5c-af3e-ee6c68592acc",
   "metadata": {},
   "outputs": [],
   "source": [
    "def minsearch_improved(query,ideology):\n",
    "    boost = {\n",
    "        'question': 1.22,\n",
    "        'category': 0.36\n",
    "    }\n",
    "\n",
    "    results = index.search(\n",
    "        query=query,\n",
    "        filter_dict={'ideology': ideology},\n",
    "        boost_dict=boost,\n",
    "        num_results=5\n",
    "    )\n",
    "\n",
    "    return results\n",
    "\n",
    "def build_prompt(query, search_results):\n",
    "    prompt_template = \"\"\"\n",
    "    You're a course teaching assistant. Answer the QUESTION based on the CONTEXT from the FAQ database.\n",
    "    Use only the facts from the CONTEXT when answering the QUESTION.\n",
    "    \n",
    "    QUESTION: {question}\n",
    "    \n",
    "    CONTEXT: \n",
    "    {context}\n",
    "    \"\"\".strip()\n",
    "\n",
    "    context = \"\"\n",
    "    \n",
    "    for doc in search_results:\n",
    "        context = context + f\"category: {doc['category']}\\nquestion: {doc['question']}\\nanswer: {doc['answer']}\\n\\n\"\n",
    "    \n",
    "    prompt = prompt_template.format(question=query, context=context).strip()\n",
    "    return prompt\n",
    "\n",
    "\n",
    "client = OpenAI()\n",
    "\n",
    "def llm(prompt, model='gpt-4o-mini'):\n",
    "    response = client.chat.completions.create(\n",
    "        model=model,\n",
    "        messages=[{\"role\": \"user\", \"content\": prompt}]\n",
    "    )\n",
    "    \n",
    "    return response.choices[0].message.content\n",
    "\n",
    "# previously: rag(query: str) -> str\n",
    "def rag(query: dict, model='gpt-4o-mini') -> str:\n",
    "    search_results = minsearch_improved(query['question'],query['ideology'])\n",
    "    prompt = build_prompt(query['question'], search_results)\n",
    "    answer = llm(prompt, model=model)\n",
    "    return answer"
   ]
  },
  {
   "cell_type": "markdown",
   "id": "fcc4a996-fa0c-4973-81ef-169287dacf96",
   "metadata": {},
   "source": [
    "### Create llm answers to ground truth data"
   ]
  },
  {
   "cell_type": "code",
   "execution_count": 62,
   "id": "4e02b4b4-8a98-434b-8509-b91c29660f08",
   "metadata": {},
   "outputs": [
    {
     "data": {
      "application/vnd.jupyter.widget-view+json": {
       "model_id": "0e417110b8bc441ba2c989447a3705cd",
       "version_major": 2,
       "version_minor": 0
      },
      "text/plain": [
       "  0%|          | 0/4100 [00:00<?, ?it/s]"
      ]
     },
     "metadata": {},
     "output_type": "display_data"
    }
   ],
   "source": [
    "df_gt = pd.read_csv(\"../data/ground_truth_retrieval.csv\")\n",
    "ground_truth = df_gt.to_dict(orient='records')\n",
    "\n",
    "ground_truth_w_answers = {}\n",
    "\n",
    "for id, rec in enumerate(tqdm(ground_truth)):\n",
    "    llm_answer = rag(rec)\n",
    "    \n",
    "    idx = ground_truth[id][\"id\"]\n",
    "    # Filter for entries with a specific id, e.g., id = 1\n",
    "    filtered_data = [entry for entry in documents if entry['id'] == idx]\n",
    "    original_answer = filtered_data[0][\"answer\"]\n",
    "\n",
    "    ground_truth_w_answers[id] = {\n",
    "        \"question\": rec[\"question\"],\n",
    "        \"ideology\": rec[\"ideology\"],\n",
    "        \"llm_answer\": llm_answer,\n",
    "        \"original_answer\": original_answer\n",
    "    }"
   ]
  },
  {
   "cell_type": "code",
   "execution_count": 74,
   "id": "7ca9fdc9-b004-4c71-a179-0d8398e90ed9",
   "metadata": {},
   "outputs": [],
   "source": [
    "with open('ground_truth_w_answers.json', 'w') as json_file:\n",
    "    json.dump(ground_truth_w_answers, json_file, indent=4)\n",
    "\n",
    "df_gpt4o = pd.DataFrame.from_dict(ground_truth_w_answers, orient='index')\n",
    "df_gpt4o.to_csv('../data/results-gpt4o.csv', index=False)"
   ]
  },
  {
   "cell_type": "markdown",
   "id": "4578549d-8171-45f8-9289-f289966544ac",
   "metadata": {},
   "source": [
    "# Cosine Similarity"
   ]
  },
  {
   "cell_type": "code",
   "execution_count": 86,
   "id": "26d0c1aa-1a9a-41b2-99e9-c70deeb2453b",
   "metadata": {},
   "outputs": [
    {
     "data": {
      "application/vnd.jupyter.widget-view+json": {
       "model_id": "f84005a27e14421ca5e9974702018f3c",
       "version_major": 2,
       "version_minor": 0
      },
      "text/plain": [
       "  0%|          | 0/4100 [00:00<?, ?it/s]"
      ]
     },
     "metadata": {},
     "output_type": "display_data"
    }
   ],
   "source": [
    "df_gpt4o = pd.read_csv(\"../data/results-gpt4o.csv\")\n",
    "results_gpt4o = df_gpt4o.to_dict(orient='records')\n",
    "\n",
    "model_name = 'multi-qa-MiniLM-L6-cos-v1'\n",
    "model = SentenceTransformer(model_name)\n",
    "\n",
    "def compute_similarity(record):\n",
    "    answer_orig = record['original_answer']\n",
    "    answer_llm = record['llm_answer']\n",
    "    \n",
    "    v_llm = model.encode(answer_llm)\n",
    "    v_orig = model.encode(answer_orig)\n",
    "    \n",
    "    return v_llm.dot(v_orig)\n",
    "\n",
    "similarity = []\n",
    "\n",
    "for record in tqdm(results_gpt4o):\n",
    "    sim = compute_similarity(record)\n",
    "    similarity.append(sim)"
   ]
  },
  {
   "cell_type": "code",
   "execution_count": 112,
   "id": "d9f1f49a-af65-4b5e-99c8-f15cefabde52",
   "metadata": {},
   "outputs": [
    {
     "data": {
      "text/plain": [
       "count    4100.000000\n",
       "mean        0.815537\n",
       "std         0.126314\n",
       "min         0.100687\n",
       "25%         0.749605\n",
       "50%         0.840572\n",
       "75%         0.908356\n",
       "max         1.000000\n",
       "Name: cosine, dtype: float64"
      ]
     },
     "execution_count": 112,
     "metadata": {},
     "output_type": "execute_result"
    }
   ],
   "source": [
    "df_gpt4o['cosine'] = similarity\n",
    "df_gpt4o['cosine'].describe()"
   ]
  },
  {
   "cell_type": "code",
   "execution_count": 110,
   "id": "0d80936e-da2d-4927-9976-0dedd497f221",
   "metadata": {},
   "outputs": [],
   "source": [
    "# save output\n",
    "df_gpt4o.to_csv('../data/results-gpt4o-mini-cosine.csv', index=False)"
   ]
  },
  {
   "cell_type": "code",
   "execution_count": 85,
   "id": "d94ff5f1-5dec-4606-8b56-fdc504c8b02f",
   "metadata": {},
   "outputs": [
    {
     "data": {
      "image/png": "[encoded data removed]",
      "text/plain": [
       "<Figure size 640x480 with 1 Axes>"
      ]
     },
     "metadata": {},
     "output_type": "display_data"
    }
   ],
   "source": [
    "import seaborn as sns\n",
    "import matplotlib.pyplot as plt\n",
    "\n",
    "# Updated to use sns.histplot\n",
    "sns.histplot(df_gpt4o['cosine'], label='4o-mini', kde=True)\n",
    "\n",
    "plt.title(\"RAG LLM Performance\")\n",
    "plt.xlabel(\"A->Q->A' Cosine Similarity\")\n",
    "plt.legend()\n",
    "\n",
    "plt.show()"
   ]
  },
  {
   "cell_type": "markdown",
   "id": "70402e27-c7fe-44a4-8c8c-0de661d03954",
   "metadata": {},
   "source": [
    "# LLM as a Judge"
   ]
  },
  {
   "cell_type": "code",
   "execution_count": 90,
   "id": "ca6379a2-8828-4354-bd1a-dd3b64cf61d0",
   "metadata": {},
   "outputs": [],
   "source": [
    "prompt1_template = \"\"\"\n",
    "You are an expert evaluator for a Retrieval-Augmented Generation (RAG) system.\n",
    "Your task is to analyze the relevance of the generated answer compared to the original answer provided.\n",
    "Based on the relevance and similarity of the generated answer to the original answer, you will classify\n",
    "it as \"NON_RELEVANT\", \"PARTLY_RELEVANT\", or \"RELEVANT\".\n",
    "\n",
    "Here is the data for evaluation:\n",
    "\n",
    "Original Answer: {original_answer}\n",
    "Generated Question: {question}\n",
    "Generated Answer: {llm_answer}\n",
    "\n",
    "Please analyze the content and context of the generated answer in relation to the original\n",
    "answer and provide your evaluation in parsable JSON without using code blocks:\n",
    "\n",
    "{{\n",
    "  \"Relevance\": \"NON_RELEVANT\" | \"PARTLY_RELEVANT\" | \"RELEVANT\",\n",
    "  \"Explanation\": \"[Provide a brief explanation for your evaluation]\"\n",
    "}}\n",
    "\"\"\".strip()\n",
    "\n",
    "prompt2_template = \"\"\"\n",
    "You are an expert evaluator for a Retrieval-Augmented Generation (RAG) system.\n",
    "Your task is to analyze the relevance of the generated answer to the given question.\n",
    "Based on the relevance of the generated answer, you will classify it\n",
    "as \"NON_RELEVANT\", \"PARTLY_RELEVANT\", or \"RELEVANT\".\n",
    "\n",
    "Here is the data for evaluation:\n",
    "\n",
    "Question: {question}\n",
    "Generated Answer: {llm_answer}\n",
    "\n",
    "Please analyze the content and context of the generated answer in relation to the question\n",
    "and provide your evaluation in parsable JSON without using code blocks:\n",
    "\n",
    "{{\n",
    "  \"Relevance\": \"NON_RELEVANT\" | \"PARTLY_RELEVANT\" | \"RELEVANT\",\n",
    "  \"Explanation\": \"[Provide a brief explanation for your evaluation]\"\n",
    "}}\n",
    "\"\"\".strip()"
   ]
  },
  {
   "cell_type": "code",
   "execution_count": 94,
   "id": "161601b4-46a3-46ca-8f89-7402a0a3730a",
   "metadata": {},
   "outputs": [],
   "source": [
    "df_sample = df_gpt4o.sample(n=150, random_state=1)\n",
    "samples = df_sample.to_dict(orient='records')"
   ]
  },
  {
   "cell_type": "markdown",
   "id": "c2e99a89-ff5d-42fe-a2d7-3b3d1e4bebe5",
   "metadata": {},
   "source": [
    "### answer -> question -> answer evaluation"
   ]
  },
  {
   "cell_type": "code",
   "execution_count": 95,
   "id": "e3052f2b-390d-49e2-86da-e5332f56f0a2",
   "metadata": {},
   "outputs": [
    {
     "data": {
      "application/vnd.jupyter.widget-view+json": {
       "model_id": "8c7f27900e414a22bed6c0453d5d7acc",
       "version_major": 2,
       "version_minor": 0
      },
      "text/plain": [
       "  0%|          | 0/150 [00:00<?, ?it/s]"
      ]
     },
     "metadata": {},
     "output_type": "display_data"
    }
   ],
   "source": [
    "evaluations = []\n",
    "\n",
    "for record in tqdm(samples):\n",
    "    prompt = prompt1_template.format(**record)\n",
    "    evaluation = llm(prompt, model='gpt-4o-mini')\n",
    "    evaluations.append(evaluation)\n",
    "\n",
    "# Convert JSON strings to Python dictionaries\n",
    "evaluations_dicts = [json.loads(item) for item in evaluations]"
   ]
  },
  {
   "cell_type": "code",
   "execution_count": 102,
   "id": "a00fe5e4-d4c6-4ecd-b5f5-7b10fcd4c44d",
   "metadata": {},
   "outputs": [
    {
     "data": {
      "text/html": [
       "<div>\n",
       "<style scoped>\n",
       "    .dataframe tbody tr th:only-of-type {\n",
       "        vertical-align: middle;\n",
       "    }\n",
       "\n",
       "    .dataframe tbody tr th {\n",
       "        vertical-align: top;\n",
       "    }\n",
       "\n",
       "    .dataframe thead th {\n",
       "        text-align: right;\n",
       "    }\n",
       "</style>\n",
       "<table border=\"1\" class=\"dataframe\">\n",
       "  <thead>\n",
       "    <tr style=\"text-align: right;\">\n",
       "      <th></th>\n",
       "      <th>Relevance</th>\n",
       "      <th>Explanation</th>\n",
       "    </tr>\n",
       "  </thead>\n",
       "  <tbody>\n",
       "    <tr>\n",
       "      <th>115</th>\n",
       "      <td>NON_RELEVANT</td>\n",
       "      <td>The generated answer does not address the orig...</td>\n",
       "    </tr>\n",
       "  </tbody>\n",
       "</table>\n",
       "</div>"
      ],
      "text/plain": [
       "        Relevance                                        Explanation\n",
       "115  NON_RELEVANT  The generated answer does not address the orig..."
      ]
     },
     "execution_count": 102,
     "metadata": {},
     "output_type": "execute_result"
    }
   ],
   "source": [
    "# Convert list of dictionaries into a pandas DataFrame\n",
    "df_aqa = pd.DataFrame(evaluations_dicts)\n",
    "df_aqa[df_aqa.Relevance == 'NON_RELEVANT']"
   ]
  },
  {
   "cell_type": "markdown",
   "id": "5d1a4d3e-e038-4ed6-9f41-f43d692b9b13",
   "metadata": {},
   "source": [
    "### question -> answer evaluation"
   ]
  },
  {
   "cell_type": "code",
   "execution_count": 101,
   "id": "e4e2b920-6b24-4c22-90ae-ea024960162a",
   "metadata": {},
   "outputs": [
    {
     "data": {
      "application/vnd.jupyter.widget-view+json": {
       "model_id": "ad3fca260a034062a9fe42123022ba25",
       "version_major": 2,
       "version_minor": 0
      },
      "text/plain": [
       "  0%|          | 0/150 [00:00<?, ?it/s]"
      ]
     },
     "metadata": {},
     "output_type": "display_data"
    }
   ],
   "source": [
    "evaluations_qa = []\n",
    "\n",
    "for record in tqdm(samples):\n",
    "    prompt = prompt2_template.format(**record)\n",
    "    evaluation = llm(prompt, model='gpt-4o-mini')\n",
    "    evaluations_qa.append(evaluation)\n",
    "\n",
    "# Convert JSON strings to Python dictionaries\n",
    "evaluations_qa_dicts = [json.loads(item) for item in evaluations_qa]"
   ]
  },
  {
   "cell_type": "code",
   "execution_count": 105,
   "id": "bb3ceb6e-a73c-41e7-aae2-eb98031c5690",
   "metadata": {},
   "outputs": [
    {
     "data": {
      "text/html": [
       "<div>\n",
       "<style scoped>\n",
       "    .dataframe tbody tr th:only-of-type {\n",
       "        vertical-align: middle;\n",
       "    }\n",
       "\n",
       "    .dataframe tbody tr th {\n",
       "        vertical-align: top;\n",
       "    }\n",
       "\n",
       "    .dataframe thead th {\n",
       "        text-align: right;\n",
       "    }\n",
       "</style>\n",
       "<table border=\"1\" class=\"dataframe\">\n",
       "  <thead>\n",
       "    <tr style=\"text-align: right;\">\n",
       "      <th></th>\n",
       "      <th>Relevance</th>\n",
       "      <th>Explanation</th>\n",
       "    </tr>\n",
       "  </thead>\n",
       "  <tbody>\n",
       "    <tr>\n",
       "      <th>18</th>\n",
       "      <td>NON_RELEVANT</td>\n",
       "      <td>The generated answer states that Medieval Chri...</td>\n",
       "    </tr>\n",
       "    <tr>\n",
       "      <th>37</th>\n",
       "      <td>NON_RELEVANT</td>\n",
       "      <td>The generated answer provides 'distress' as an...</td>\n",
       "    </tr>\n",
       "    <tr>\n",
       "      <th>115</th>\n",
       "      <td>NON_RELEVANT</td>\n",
       "      <td>The generated answer fails to address the ques...</td>\n",
       "    </tr>\n",
       "    <tr>\n",
       "      <th>127</th>\n",
       "      <td>NON_RELEVANT</td>\n",
       "      <td>The generated answer does not address the ques...</td>\n",
       "    </tr>\n",
       "    <tr>\n",
       "      <th>135</th>\n",
       "      <td>NON_RELEVANT</td>\n",
       "      <td>The generated answer does not specify any actu...</td>\n",
       "    </tr>\n",
       "  </tbody>\n",
       "</table>\n",
       "</div>"
      ],
      "text/plain": [
       "        Relevance                                        Explanation\n",
       "18   NON_RELEVANT  The generated answer states that Medieval Chri...\n",
       "37   NON_RELEVANT  The generated answer provides 'distress' as an...\n",
       "115  NON_RELEVANT  The generated answer fails to address the ques...\n",
       "127  NON_RELEVANT  The generated answer does not address the ques...\n",
       "135  NON_RELEVANT  The generated answer does not specify any actu..."
      ]
     },
     "execution_count": 105,
     "metadata": {},
     "output_type": "execute_result"
    }
   ],
   "source": [
    "# Convert list of dictionaries into a pandas DataFrame\n",
    "df_qa = pd.DataFrame(evaluations_qa_dicts)\n",
    "df_qa[df_qa.Relevance == 'NON_RELEVANT']"
   ]
  }
 ],
 "metadata": {
  "kernelspec": {
   "display_name": "myenv(3.11)",
   "language": "python",
   "name": "myenv"
  },
  "language_info": {
   "codemirror_mode": {
    "name": "ipython",
    "version": 3
   },
   "file_extension": ".py",
   "mimetype": "text/x-python",
   "name": "python",
   "nbconvert_exporter": "python",
   "pygments_lexer": "ipython3",
   "version": "3.11.9"
  }
 },
 "nbformat": 4,
 "nbformat_minor": 5
}
